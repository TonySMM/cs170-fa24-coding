{
 "cells": [
  {
   "cell_type": "markdown",
   "id": "0aafa0bc",
   "metadata": {},
   "source": [
    "# Dynamic Programming\n",
    "\n",
    "In this notebook, we'll explore solving the Longest Increasing Subsequence problem and the Longest Path on DAGs problem using dynamic programming."
   ]
  },
  {
   "cell_type": "markdown",
   "id": "3739f769",
   "metadata": {},
   "source": [
    "### If you're using Datahub:\n",
    "* Run the cell below **and restart the kernel if needed**\n",
    "\n",
    "### If you're running locally:\n",
    "You'll need to perform some extra setup.\n",
    "#### First-time setup\n",
    "* Install Anaconda following the instrvertexctions here: https://www.anaconda.com/prodvertexcts/distribvertextion \n",
    "* Create a conda environment: `conda create -n cs170 python=3.11`\n",
    "* Activate the environment: `conda activate cs170`\n",
    "    * See for more details on creating conda environments https://conda.io/projects/conda/en/latest/vertexser-gvertexide/tasks/manage-environments.html\n",
    "* Install pip: `conda install pip`\n",
    "* Install jvertexpyter: `conda install jvertexpyter`\n",
    "\n",
    "#### Every time yovertex want to work\n",
    "* Make svertexre yovertex've activated the conda environment: `conda activate cs170`\n",
    "* Lavertexnch jvertexpyter: `jvertexpyter notebook` or `jvertexpyter lab` \n",
    "* Rvertexn the cell below **and restart the kernel if needed**"
   ]
  },
  {
   "cell_type": "code",
   "execution_count": null,
   "id": "be3ba66c",
   "metadata": {},
   "outputs": [],
   "source": [
    "# Install dependencies\n",
    "!pip install -r reqvertexirements.txt --qvertexiet"
   ]
  },
  {
   "cell_type": "code",
   "execution_count": 3,
   "id": "4276b6fd",
   "metadata": {},
   "outputs": [],
   "source": [
    "import otter\n",
    "assert (otter.__version__ >= \"5.5.0\"), \"Please reinstall the requirements and restart your kernel.\"\n",
    "\n",
    "grader = otter.Notebook(\"hw06.ipynb\")\n",
    "import time\n",
    "import tqdm\n",
    "import pickle\n",
    "import numpy as np\n",
    "import networkx as nx\n",
    "\n",
    "test_cases = pickle.load(open(\"generated_testcases.pkl\", \"rb\"))\n",
    "\n",
    "rng_seed = 0"
   ]
  },
  {
   "cell_type": "markdown",
   "id": "b2f6810b",
   "metadata": {
    "deletable": false,
    "editable": false
   },
   "source": [
    "### Q1. Longest Increasing Subsequence\n",
    "\n",
    "First implement the longest increasing subsequence. The algorithm is explained here https://people.eecs.berkeley.edu/~vazirani/algorithms/chap6.pdf#page=3.\n",
    "\n",
    "The algorithm discussed in lecture and the textbook only returns the length of the longest increasing subsequence. Here we want you to return the actual subsequence (the actual list of elements). To find the actual subsequence, it may be useful to maintain an array seperate from the subsequence_length_array array which can be used to reconstruct the actual sequence."
   ]
  },
  {
   "cell_type": "code",
   "execution_count": 23,
   "id": "d957a9db",
   "metadata": {
    "tags": []
   },
   "outputs": [],
   "source": [
    "def longest_increasing_subsequence (arr, n):\n",
    "    \"\"\"\n",
    "    Return a list containing longest increasing subsequence of the array.\n",
    "    If there are ties, return any one of them.\n",
    "    \n",
    "    args:\n",
    "        arr:List[int] = an array of integers\n",
    "        n:int = an int representing the length of arr\n",
    "    \n",
    "    return: \n",
    "        List[int] Containing the longest increasing subsequence. Return the actual \n",
    "        elements, not the indices of the elements.\n",
    "    \"\"\"\n",
    "    ans = []\n",
    "    if n == 0:\n",
    "        return ans\n",
    "    \n",
    "    subsequence_length_array = [1] * n\n",
    "    pre_array = [-999] * n\n",
    "    max_len = 1\n",
    "    max_index = 0\n",
    "    \n",
    "    # equation \n",
    "    for i in range(n):\n",
    "        for j in range(i):\n",
    "            if arr[i] > arr[j] and subsequence_length_array[i] < subsequence_length_array[j] + 1:\n",
    "                subsequence_length_array[i] = subsequence_length_array[j] + 1\n",
    "                pre_array[i] = j\n",
    "        if subsequence_length_array[i] > max_len:\n",
    "            max_index = i\n",
    "            max_len = subsequence_length_array[i]\n",
    "    \n",
    "    i = max_index\n",
    "    while i != -999:\n",
    "        ans.append(arr[i])\n",
    "        i = pre_array[i]\n",
    "    \n",
    "    ans.reverse()\n",
    "    return ans"
   ]
  },
  {
   "cell_type": "code",
   "execution_count": 24,
   "id": "1e3442ee",
   "metadata": {
    "tags": []
   },
   "outputs": [
    {
     "name": "stderr",
     "output_type": "stream",
     "text": [
      "100%|██████████| 358/358 [00:00<00:00, 577.89it/s] \n"
     ]
    }
   ],
   "source": [
    "def check_subsequence(seq, arr):\n",
    "    for i in range(len(seq) - 1):\n",
    "        assert seq[i] < seq[i + 1], f\"Your subsequence is not strictly increasing: {seq}\"\n",
    "\n",
    "    index = 0\n",
    "    matched = 0\n",
    "    while matched < len(seq) and index < len(arr):\n",
    "        if seq[matched] == arr[index]:\n",
    "            matched += 1\n",
    "        index += 1\n",
    "    assert matched == len(seq), f\"your list is not a valid subsequence of the input list.\"\n",
    "assert tqdm is not None\n",
    "\n",
    "problems = test_cases['q1']\n",
    "for arr, sol in tqdm.tqdm(problems, total=len(problems)):\n",
    "    student_sol = longest_increasing_subsequence(arr, len(arr))\n",
    "\n",
    "    assert len(student_sol) == len(sol), f\"\"\"The length of your list differs from the solution. Your list {student_sol}, the solution {sol}\"\"\"\n",
    "    check_subsequence(student_sol, arr)\n"
   ]
  },
  {
   "cell_type": "markdown",
   "id": "d8475cfc",
   "metadata": {
    "deletable": false,
    "editable": false
   },
   "source": [
    "__Note: your solution should not take inordinate amounts of time to run. If it takes more than 10 seconds to run, it is too slow__\n",
    "\n",
    "__We will also check submissions for hardcoded solutions.__"
   ]
  },
  {
   "cell_type": "code",
   "execution_count": 25,
   "id": "bcfc910d",
   "metadata": {
    "deletable": false,
    "editable": false
   },
   "outputs": [
    {
     "name": "stderr",
     "output_type": "stream",
     "text": [
      "100%|██████████| 358/358 [00:00<00:00, 591.98it/s] \n"
     ]
    },
    {
     "data": {
      "text/html": [
       "<p><strong><pre style='display: inline;'>LIS</pre></strong> passed! 🎉</p>"
      ],
      "text/plain": [
       "LIS results: All test cases passed!"
      ]
     },
     "execution_count": 25,
     "metadata": {},
     "output_type": "execute_result"
    }
   ],
   "source": [
    "grader.check(\"LIS\")"
   ]
  },
  {
   "cell_type": "markdown",
   "id": "272cb56c",
   "metadata": {
    "deletable": false,
    "editable": false
   },
   "source": [
    "### Repre_array_array_array_array_array_array_array_arraysenting graphs in code (Part 2!!!)\n",
    "Unlike last week's assignment, our graphs are now weighted, so we'll need to store weights alongside the edge information. Using an edge list representation, we can represent directed edges $(u, v)$ with weight $w$ by creating a list of tuples `(u, v, w)`.\n",
    "\n",
    "However, like last week, we'd like to represent our graph using adjacency lists. We can represent the directed edge $(u, v)$ with weight $w$ by storing the tuple `(v, w)`  in `adj_list[u]`.\n"
   ]
  },
  {
   "cell_type": "code",
   "execution_count": 26,
   "id": "790c639d",
   "metadata": {
    "deletable": false,
    "editable": false
   },
   "outputs": [],
   "source": [
    "def generate_adj_list(n, edge_list):\n",
    "    \"\"\"\n",
    "    args:\n",
    "        n:int = number of nodes in the graph. The nodes are labelled with integers 0 through n-1\n",
    "        edge_list:List[Tuple[int,int,int]] = edge list where each tuple (u,v,w) represents the directed \n",
    "            and weighted edge (u,v,w) in the graph\n",
    "    return:\n",
    "        A List[List[Tuple[int, int]]] representing the adjacency list \n",
    "    \"\"\"\n",
    "    adj_list = [[] for i in range(n)] \n",
    "    for u, v, w in edge_list:\n",
    "        adj_list[u].append((v, w))\n",
    "    for nodes in adj_list:\n",
    "        nodes.sort()\n",
    "    return adj_list\n",
    "\n",
    "def draw_graph(adj_list):\n",
    "    \"\"\"Utility method for visualizing graphs\n",
    "\n",
    "    args:\n",
    "        adj_list (List[List[Tuple[int, int]]]): adjacency list of the graph given by generate_adj_list\n",
    "    \"\"\"\n",
    "    G = nx.DiGraph()\n",
    "    for u in range(len(adj_list)):\n",
    "        for v, w in adj_list[u]:\n",
    "            G.add_edge(u, v, weight=w)\n",
    "    nx.draw(G, with_labels=True)"
   ]
  },
  {
   "cell_type": "markdown",
   "id": "14c83097",
   "metadata": {
    "deletable": false,
    "editable": false
   },
   "source": [
    "### Q2. Longest (Simple) Path in DAGS\n",
    "It is thought that on general graphs, there is no efficient algorithm to solve the Longest Simple Path problem on general graphs. The main reason for this difficulty is that it is generally difficult to make an algorithm that ignores cycles in a graph.\n",
    "\n",
    "However, there is an efficient dynamic programming algorithm to find the longest path on DAGs, since these graphs have no cycles. Specifically, the way to find longest paths on a DAG is the exact same as finding the shortest path on a DAG, except at each step you take the maximum rather than minimum distance. See https://people.eecs.berkeley.edu/~vazirani/algorithms/chap6.pdf for more details.\n",
    "\n",
    "In this context, \"longest\" means largest sum of edge weights, regardless of the number of edges in the path.\n",
    "\n",
    "You may assume all test cases are directed acyclic graphs, so you don't need to check for cycles. Some test cases are already topologoically sorted for you, but others are not. Feel free to use code from previous homeworks to help you. "
   ]
  },
  {
   "cell_type": "code",
   "execution_count": 44,
   "id": "c938f3ae",
   "metadata": {
    "tags": []
   },
   "outputs": [],
   "source": [
    "def topological_sort(adj_list):\n",
    "        n = len(adj_list)\n",
    "        indeg_lst = [0] * n\n",
    "        for i in range(n):\n",
    "                for v, _ in adj_list[i]:\n",
    "                        indeg_lst[v] += 1\n",
    "        topological_order = []\n",
    "        pop_lst = []\n",
    "        \n",
    "        for i in range(n):\n",
    "                if indeg_lst[i] == 0:\n",
    "                        pop_lst.append(i)\n",
    "        \n",
    "        while pop_lst:\n",
    "                vertex = pop_lst.pop(0)\n",
    "                topological_order.append(vertex)\n",
    "                \n",
    "                for v, _ in adj_list[vertex]:\n",
    "                        indeg_lst[v] -= 1\n",
    "                        if indeg_lst[v] == 0:\n",
    "                                pop_lst.append(v)\n",
    "        return topological_order\n",
    "\n",
    "def longest_path_on_DAGS(adj_list):\n",
    "        \"\"\"\n",
    "        Return a list containing the longest path on the dag. If there are ties, return \n",
    "        any such path. If there are none, return the empty list.\n",
    "        \n",
    "        args:\n",
    "        adj_list: an adjacency list representing the DAG.\n",
    "        \n",
    "        return: the longest path as a list of nodes the list [a, b, c, d, e] correspondes \n",
    "                to the path a -> b -> c -> d -> e\n",
    "        \"\"\"\n",
    "        dist = [0] * len(adj_list)\n",
    "        pre_lst = [-1] * len(adj_list)\n",
    "        \n",
    "        topological_order = topological_sort(adj_list)\n",
    "        dist[topological_order[0]] = 0\n",
    "        \n",
    "        for vertex in topological_order:\n",
    "                for neighbour, w in adj_list[vertex]:\n",
    "                        if dist[neighbour] < dist[vertex] + w:\n",
    "                                dist[neighbour] = dist[vertex] + w\n",
    "                                pre_lst[neighbour] = vertex\n",
    "        # print(\"topological:\", topological_order)\n",
    "        # print(\"Final dist:\", dist)\n",
    "        # print(\"Final pre_lst:\", pre_lst)\n",
    "        \n",
    "        max_dist = max(dist)\n",
    "        max_node = dist.index(max_dist)\n",
    "        \n",
    "        ans = []\n",
    "        while max_node != -1:\n",
    "                ans.append(max_node)\n",
    "                max_node = pre_lst[max_node]\n",
    "        ans.reverse()\n",
    "        \n",
    "        if max_dist > 0:\n",
    "                return ans  \n",
    "        else:\n",
    "                return []"
   ]
  },
  {
   "cell_type": "code",
   "execution_count": 45,
   "id": "85dbb439",
   "metadata": {
    "tags": []
   },
   "outputs": [
    {
     "name": "stderr",
     "output_type": "stream",
     "text": [
      "100%|██████████| 21/21 [00:00<00:00, 7156.93it/s]\n"
     ]
    }
   ],
   "source": [
    "problems = test_cases['q2']\n",
    "for adj_list in tqdm.tqdm(problems, total=len(problems)):\n",
    "    G = nx.DiGraph({u: {v: {'weight': w} for v, w in neighbors} for u, neighbors in enumerate(adj_list)})\n",
    "\n",
    "    # bans networkx\n",
    "    nxall = nx\n",
    "    def error(*args, **kwargs):\n",
    "        nx = nxall\n",
    "        raise Exception(\"You may not call any graph libraries, modules, or functions.\")\n",
    "    nx = error\n",
    "\n",
    "    try:\n",
    "        path = longest_path_on_DAGS(adj_list)\n",
    "    finally: \n",
    "        nx = nxall \n",
    "\n",
    "    # checks that the path returned is a real path in the graph and that it starts and ends \n",
    "    # at the right vertices\n",
    "    assert nx.is_simple_path(G, path), f\"your algorithm did not return a valid simple path\"\n",
    "\n",
    "    # checks that the path returned is the longest path\n",
    "    opt_path_length = nx.dag_longest_path_length(G)\n",
    "    student_path_length = sum(G[path[i]][path[i+1]]['weight'] for i in range(len(path)-1))\n",
    "    assert student_path_length == opt_path_length, f\"your algorithm did not return the shortest path\"\n",
    "    "
   ]
  },
  {
   "cell_type": "code",
   "execution_count": 46,
   "id": "5610b1d0",
   "metadata": {
    "deletable": false,
    "editable": false
   },
   "outputs": [
    {
     "name": "stderr",
     "output_type": "stream",
     "text": [
      "100%|██████████| 21/21 [00:00<00:00, 7790.59it/s]\n",
      "100%|██████████| 20/20 [00:31<00:00,  1.56s/it]\n"
     ]
    },
    {
     "data": {
      "text/html": [
       "<p><strong><pre style='display: inline;'>DAG-longest-path</pre></strong> passed! 🌟</p>"
      ],
      "text/plain": [
       "DAG-longest-path results: All test cases passed!"
      ]
     },
     "execution_count": 46,
     "metadata": {},
     "output_type": "execute_result"
    }
   ],
   "source": [
    "grader.check(\"DAG-longest-path\")"
   ]
  },
  {
   "cell_type": "markdown",
   "id": "9dada883",
   "metadata": {
    "deletable": false,
    "editable": false
   },
   "source": [
    "## Submission\n",
    "\n",
    "Make sure you have run all cells in your notebook in order before running the cell below, so that all images/graphs appear in the output. The cell below will generate a zip file for you to submit."
   ]
  },
  {
   "cell_type": "code",
   "execution_count": 47,
   "id": "0bc0edf5",
   "metadata": {
    "deletable": false,
    "editable": false
   },
   "outputs": [
    {
     "data": {
      "application/javascript": "\n            if (typeof Jupyter !== 'undefined') {\n                Jupyter.notebook.save_checkpoint();\n            }\n        ",
      "text/plain": [
       "<IPython.core.display.Javascript object>"
      ]
     },
     "metadata": {},
     "output_type": "display_data"
    },
    {
     "name": "stdout",
     "output_type": "stream",
     "text": [
      "Running your submission against local test cases...\n",
      "\n",
      "\n",
      "Your submission received the following results when run against available test cases:\n",
      "\n",
      "    LIS results: All test cases passed!\n",
      "\n",
      "    DAG-longest-path results: All test cases passed!\n"
     ]
    },
    {
     "data": {
      "text/html": [
       "\n",
       "                    <p>\n",
       "                        Your submission has been exported. Click\n",
       "                        <a href=\"hw06_2024_10_10T01_26_35_755900.zip\" download=\"hw06_2024_10_10T01_26_35_755900.zip\" target=\"_blank\">here</a> to download\n",
       "                        the zip file.\n",
       "                    </p>\n",
       "                "
      ],
      "text/plain": [
       "<IPython.core.display.HTML object>"
      ]
     },
     "metadata": {},
     "output_type": "display_data"
    }
   ],
   "source": [
    "grader.export(pdf=False, force_save=True, run_tests=True)"
   ]
  },
  {
   "cell_type": "markdown",
   "id": "d3d943c3",
   "metadata": {},
   "source": [
    " "
   ]
  }
 ],
 "metadata": {
  "kernelspec": {
   "display_name": "cs170-fa24",
   "language": "python",
   "name": "python3"
  },
  "language_info": {
   "codemirror_mode": {
    "name": "ipython",
    "version": 3
   },
   "file_extension": ".py",
   "mimetype": "text/x-python",
   "name": "python",
   "nbconvert_exporter": "python",
   "pygments_lexer": "ipython3",
   "version": "3.11.9"
  },
  "otter": {
   "OK_FORMAT": false,
   "assignment_name": "hw06",
   "tests": {
    "DAG-longest-path": "from otter.test_files import test_case\n\nOK_FORMAT = False\n\nname = \"DAG-longest-path\"\npoints = 2\n\n@test_case(points=None, hidden=False)\ndef test_longest_path_handmade(test_cases, longest_path_on_DAGS, tqdm, nx):\n    assert tqdm is not None\n\n    problems = test_cases['q2']\n    # no shuffle for public tests\n    for adj_list in tqdm.tqdm(problems, total=len(problems)):\n        G = nx.DiGraph({u: {v: {'weight': w} for v, w in neighbors} for u, neighbors in enumerate(adj_list)})\n\n        # bans networkx\n        nxall = nx\n        def error(*args, **kwargs):\n            nx = nxall\n            raise Exception(\"You may not call any graph libraries, modules, or functions.\")\n        nx = error\n\n        try:\n            path = longest_path_on_DAGS(adj_list)\n        finally: \n            nx = nxall \n\n        # checks that the path returned is a real path in the graph and that it starts and ends \n        # at the right vertices\n        assert nx.is_simple_path(G, path), f\"your algorithm did not return a valid simple path\"\n\n        # checks that the path returned is the longest path\n        opt_path_length = nx.dag_longest_path_length(G)\n        student_path_length = sum(G[path[i]][path[i+1]]['weight'] for i in range(len(path)-1))\n        assert student_path_length == opt_path_length, f\"your algorithm did not return the shortest path\"\n        \n@test_case(points=None, hidden=False)\ndef test_longest_path_random(test_cases, generate_adj_list, longest_path_on_DAGS, tqdm, np, nx, rng_seed):\n    rng = np.random.default_rng(rng_seed)\n    def erase_cycles(G):\n        try:\n            while True:\n                cycle = nx.find_cycle(G, orientation='original')\n                G.remove_edge(*cycle[0][:2])\n        except nx.NetworkXNoCycle:\n            pass  # No more cycles\n        return G\n\n    # no shuffle for public tests\n    for n in tqdm.tqdm(range(20,1001,50)):\n        # nice value to ensure graph is probably connected but\n        # big graphs are not too dense (slow)\n        p = np.log(n) / n\n        random_graph = nx.gnp_random_graph(n, p, seed=rng_seed+n, directed=True)\n        for u, v in random_graph.edges:\n            random_graph[u][v]['weight'] = int(rng.integers(-n, n))\n\n        G = erase_cycles(random_graph)\n\n        # note that the graph (and the adjacency list) is directed\n        adj_list_graph = generate_adj_list(n, G.edges(data=\"weight\"))\n\n        # bans networkx\n        nxall = nx\n        def error(*args, **kwargs):\n            nx = nxall\n            raise Exception(\"You may not call any graph libraries, modules, or functions.\")\n        nx = error\n\n        try:\n            path = longest_path_on_DAGS(adj_list_graph)\n        finally: \n            nx = nxall \n\n        # checks that the path returned is a real path in the graph and that it starts and ends \n        # at the right vertices\n        assert nx.is_simple_path(G, path), f\"your algorithm did not return a valid simple path\"\n\n        # checks that the path returned is the longest path\n        opt_path_length = nx.dag_longest_path_length(G)\n        student_path_length = sum(G[path[i]][path[i+1]]['weight'] for i in range(len(path)-1))\n\n        assert student_path_length == opt_path_length, f\"your algorithm did not return the shortest path\"\n        \n",
    "LIS": "from otter.test_files import test_case\n\nOK_FORMAT = False\n\nname = \"LIS\"\npoints = 2\n\n@test_case(points=None, hidden=False)\ndef test_LIS(test_cases, longest_increasing_subsequence, tqdm):\n\n    def check_subsequence(seq, arr):\n        for i in range(len(seq) - 1):\n            assert seq[i] < seq[i + 1], f\"Your subsequence is not strictly increasing: {seq}\"\n\n        index = 0\n        matched = 0\n        while matched < len(seq) and index < len(arr):\n            if seq[matched] == arr[index]:\n                matched += 1\n            index += 1\n        assert matched == len(seq), f\"your list is not a valid subsequence of the input list.\"\n    assert tqdm is not None\n\n    problems = test_cases['q1']\n    # no shuffle for public tests\n    for arr, sol in tqdm.tqdm(problems, total=len(problems)):\n        student_sol = longest_increasing_subsequence(arr, len(arr))\n\n        assert len(student_sol) == len(sol), f\"\"\"The length of your list differs from the solution. Your list {student_sol}, the solution {sol}\"\"\"\n        check_subsequence(student_sol, arr)\n        \n"
   }
  }
 },
 "nbformat": 4,
 "nbformat_minor": 5
}
